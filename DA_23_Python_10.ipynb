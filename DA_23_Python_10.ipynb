{
  "nbformat": 4,
  "nbformat_minor": 0,
  "metadata": {
    "colab": {
      "provenance": [],
      "include_colab_link": true
    },
    "kernelspec": {
      "name": "python3",
      "display_name": "Python 3"
    },
    "language_info": {
      "name": "python"
    }
  },
  "cells": [
    {
      "cell_type": "markdown",
      "metadata": {
        "id": "view-in-github",
        "colab_type": "text"
      },
      "source": [
        "<a href=\"https://colab.research.google.com/github/SHAZAN01/DSA/blob/main/DA_23_Python_10.ipynb\" target=\"_parent\"><img src=\"https://colab.research.google.com/assets/colab-badge.svg\" alt=\"Open In Colab\"/></a>"
      ]
    },
    {
      "cell_type": "markdown",
      "metadata": {
        "id": "wNFhACd-b31B"
      },
      "source": [
        "####Data Structures in **Python**\n",
        "\n",
        "\n",
        "*   Linked Lists\n",
        "    *   Singly Linked List\n",
        "    *   Doubly Linked List\n",
        "    *   Circular Linked List\n",
        "*   Stack (LIFO)\n",
        "*   Queue (FIFO)\n",
        "* Tree\n",
        "* Hashmap\n"
      ]
    },
    {
      "cell_type": "markdown",
      "metadata": {
        "id": "AFXYVNCav_7K"
      },
      "source": [
        "Linked list is a collection of nodes which are not necessary to be in adjacent memory locations.\n",
        "\n",
        "Each node contains 2 fields.\n",
        "1. Data Field\n",
        "2. Next field ( or ) pointer field ( or ) address field\n",
        "\n",
        "Data field:-  Data field contains values like 9, 6.8, ‘a’ , “ramu” , 9849984900\n",
        "\n",
        "Next field:- It contains address of its next node. The last node next field contains NULL which indicates end of the linked list.\n",
        "\n",
        "We can perform mainly the following operations on single linked list.\n",
        "1. Creation\n",
        "2. Display\n",
        "3. Inserting an element into the list at begin position\n",
        "4. Inserting an element into the list at end position\n",
        "5. Inserting an element into the list at specified position\n",
        "6. Deleting an element from the list at begin position\n",
        "7. Deleting an element from the list at end position\n",
        "8. Deleting an element from the list at specified position\n",
        "9. Counting the number of elements or nodes\n",
        "10. Reversing a linkedlist"
      ]
    },
    {
      "cell_type": "markdown",
      "metadata": {
        "id": "vxtWGlhvT7aH"
      },
      "source": [
        "\n",
        "####Linked Lists\n",
        "1. Singly LInked List\n",
        "2. Doubly Linked List\n",
        "3. Circular Linked List"
      ]
    },
    {
      "cell_type": "markdown",
      "source": [
        "Two fields for SLL:\n",
        "1. data field\n",
        "2. next field"
      ],
      "metadata": {
        "id": "Tz7rxnE8kMMX"
      }
    },
    {
      "cell_type": "markdown",
      "source": [
        "Creation and Display of Sll"
      ],
      "metadata": {
        "id": "cbW26feNOEPs"
      }
    },
    {
      "cell_type": "code",
      "execution_count": null,
      "metadata": {
        "id": "Tf1dAbxH0kRv"
      },
      "outputs": [],
      "source": [
        "class Node:\n",
        "    def __init__(self,data):\n",
        "        self.data = data\n",
        "        self.next = None #Address of the next node\n",
        "\n",
        "class Sll:\n",
        "    def __init__(self):\n",
        "        self.head = None\n",
        "    def display(self):\n",
        "        if self.head is None:\n",
        "            print('Linkedlist is empty')\n",
        "        else:\n",
        "             temp = self.head\n",
        "             while temp:\n",
        "                print(temp.data)\n",
        "                temp = temp.next"
      ]
    },
    {
      "cell_type": "code",
      "source": [
        "N1 = Node(11)\n",
        "# N1.data\n",
        "# N1.next"
      ],
      "metadata": {
        "id": "nV1-oYgPG1PY"
      },
      "execution_count": null,
      "outputs": []
    },
    {
      "cell_type": "code",
      "source": [
        "L = Sll()\n",
        "L.head = N1\n",
        "\n",
        "N2 = Node(12)\n",
        "N1.next = N2\n",
        "\n",
        "N3 = Node(13)\n",
        "N2.next = N3\n",
        "\n",
        "L.display()"
      ],
      "metadata": {
        "colab": {
          "base_uri": "https://localhost:8080/"
        },
        "id": "HisvVqotHUUi",
        "outputId": "5e39b8ef-1073-4c09-bdc8-5dda48aaea20"
      },
      "execution_count": null,
      "outputs": [
        {
          "output_type": "stream",
          "name": "stdout",
          "text": [
            "11\n",
            "12\n",
            "13\n"
          ]
        }
      ]
    },
    {
      "cell_type": "markdown",
      "source": [
        "Insertion of nodes to SLL"
      ],
      "metadata": {
        "id": "JaB97yKoOJLR"
      }
    },
    {
      "cell_type": "code",
      "source": [
        "class Node:\n",
        "    def __init__(self,data):\n",
        "        self.data = data\n",
        "        self.next = None #Address of the next node\n",
        "\n",
        "class Sll:\n",
        "    def __init__(self):\n",
        "        self.head = None\n",
        "    def display(self):\n",
        "        if self.head is None:\n",
        "            print('Linkedlist is empty')\n",
        "        else:\n",
        "             temp = self.head\n",
        "             while temp:\n",
        "                print(temp.data)\n",
        "                temp = temp.next\n",
        "\n",
        "    def insert_at_end(self,data):\n",
        "        if self.head is None:\n",
        "            ne = Node(data)\n",
        "            self.head = ne\n",
        "        else:\n",
        "            ne = Node(data)\n",
        "            temp = self.head\n",
        "            while temp.next :\n",
        "                temp = temp.next\n",
        "            temp.next = ne\n",
        "\n",
        "    def insert_at_beg(self,data):\n",
        "        if self.head is None:\n",
        "            nb = Node(data)\n",
        "            self.head = nb\n",
        "        else:\n",
        "            nb = Node(data)\n",
        "            nb.next = self.head\n",
        "            self.head = nb\n",
        "\n",
        "    def insert_at_pos(self,data,pos):\n",
        "        np = Node(data)\n",
        "        temp = self.head\n",
        "        for i in range(pos-2):\n",
        "            temp = temp.next\n",
        "        np.next = temp.next\n",
        "        temp.next = np\n",
        "\n",
        "    def delete_at_end(self):\n",
        "        # temp=1, 2, 3(None)\n",
        "        temp = self.head\n",
        "        while temp.next.next:\n",
        "            temp=temp.next\n",
        "        temp.next = None\n",
        "\n",
        "    def delete_at_beg(self):\n",
        "        # (current.next = None)1, (head)(temp)2 , 3 , 4\n",
        "        # self.head = self.head.next\n",
        "\n",
        "        # Alternate way with garbage collection\n",
        "        current = self.head\n",
        "        temp = current.next\n",
        "        self.head = temp\n",
        "        current.next = None\n",
        "\n",
        "    def delete_at_pos(self,pos):\n",
        "        # 1, 2(temp), 3(temp.next), 4(temp.next.next), 5\n",
        "\n",
        "        temp = self.head\n",
        "        for i in range(pos-2):\n",
        "            temp = temp.next\n",
        "        temp.next = temp.next.next\n",
        "\n",
        "        # 1, 2(c), 3(t), 4(t.n), 5\n",
        "\n",
        "# Counting nodes\n",
        "# Insert first even positions\n",
        "# Insert multiple nodes\n",
        "# Insert at 'n' prime positions\n",
        "# Calculate center node/nodes\n",
        "# Delete odd positions nodes\n"
      ],
      "metadata": {
        "id": "a06PUoy8N7ge"
      },
      "execution_count": null,
      "outputs": []
    },
    {
      "cell_type": "code",
      "source": [
        "L = Sll()\n",
        "# L.insert_at_end(11)\n",
        "# L.insert_at_end(12)\n",
        "# L.insert_at_end(14)\n",
        "# L.insert_at_end(15)\n",
        "# L.insert_at_pos(13,2)\n",
        "# L.delete_at_end()\n",
        "L.display()"
      ],
      "metadata": {
        "id": "u-9a1qpuUboj"
      },
      "execution_count": null,
      "outputs": []
    },
    {
      "cell_type": "markdown",
      "source": [
        "###Doubly Linked List\n",
        "\n",
        "1. prev field\n",
        "2. data field\n",
        "3. next field"
      ],
      "metadata": {
        "id": "H7SHsRlygMoQ"
      }
    },
    {
      "cell_type": "code",
      "source": [
        "class Node:\n",
        "    def __init__(self,data):\n",
        "        self.data = data # data of the node\n",
        "        self.prev = None # referes to previous node\n",
        "        self.next = None # referes to next node\n",
        "\n",
        "class Dll:\n",
        "    def __init__(self):\n",
        "        self.head = None\n",
        "    def display(self):\n",
        "        if self.head is None:\n",
        "            print('Doubly Linkedlist is empty')\n",
        "        else:\n",
        "             temp = self.head\n",
        "             while temp:\n",
        "                print(temp.data)\n",
        "                temp = temp.next"
      ],
      "metadata": {
        "id": "PW8TSGG-gOB0"
      },
      "execution_count": null,
      "outputs": []
    },
    {
      "cell_type": "code",
      "source": [
        "N1 = Node(10)  #None, 10, 20\n",
        "# N1.data\n",
        "# N1.prev\n",
        "N1.next\n",
        "\n",
        "d = Dll()\n",
        "d.head = N1"
      ],
      "metadata": {
        "id": "rDe6FK8DlVZC"
      },
      "execution_count": null,
      "outputs": []
    },
    {
      "cell_type": "code",
      "source": [
        "N2 = Node(20) #10, 20, None\n",
        "N1.next = N2\n",
        "N2.prev = N1\n",
        "\n",
        "N3 = Node(30) #None, 30, None\n",
        "N3.prev = N2\n",
        "N2.next = N3"
      ],
      "metadata": {
        "id": "wTKpxH1JljfH"
      },
      "execution_count": null,
      "outputs": []
    },
    {
      "cell_type": "code",
      "source": [
        "class Node:\n",
        "    def __init__(self,data):\n",
        "        self.data = data # data of the node\n",
        "        self.prev = None # referes to previous node\n",
        "        self.next = None # referes to next node\n",
        "\n",
        "class Dll:\n",
        "    def __init__(self):\n",
        "        self.head = None\n",
        "\n",
        "    def display(self):\n",
        "        if self.head is None:\n",
        "            print('Doubly Linkedlist is empty')\n",
        "        else:\n",
        "             temp = self.head\n",
        "             while temp:\n",
        "                print(temp.data)\n",
        "                temp = temp.next\n",
        "\n",
        "    def insert_at_end(self,data):\n",
        "        if self.head is None:\n",
        "            ne = Node(data)\n",
        "            self.head = ne\n",
        "        else:\n",
        "            ne = Node(data)\n",
        "            temp = self.head\n",
        "            while temp.next:\n",
        "                temp = temp.next\n",
        "            temp.next = ne\n",
        "            ne.prev = temp\n",
        "\n",
        "    def insert_at_beg(self,data):\n",
        "        if self.head is None:\n",
        "            nb = Node(data)\n",
        "            self.head = nb\n",
        "        else:\n",
        "            # (0), 1(head), 2, 3\n",
        "            nb = Node(data)\n",
        "            nb.next = self.head\n",
        "            self.head.prev = nb\n",
        "            self.head = nb\n",
        "\n",
        "    def insert_at_pos(self,data,pos):\n",
        "        # (None,1,2), temp(1,2,3), (None,3,None)np, temp.next(3,4,5) , (4,5,None)\n",
        "        np = Node(data)\n",
        "        temp = self.head\n",
        "        for i in range(pos-2):\n",
        "            temp = temp.next\n",
        "        np.next = temp.next\n",
        "        temp.next = np\n",
        "\n",
        "d = Dll()\n",
        "NN1 = Node(30)  #None, 30, None\n",
        "NN2 = Node(40)  #None, 40, None\n",
        "NN1.next = NN2\n",
        "NN2.prev = NN1\n",
        "# NN1.next.data\n",
        "NN2.prev.data"
      ],
      "metadata": {
        "colab": {
          "base_uri": "https://localhost:8080/"
        },
        "id": "ym0XPJljmy85",
        "outputId": "cb30950c-4795-4b3f-c964-df67fb80ba59"
      },
      "execution_count": null,
      "outputs": [
        {
          "output_type": "execute_result",
          "data": {
            "text/plain": [
              "30"
            ]
          },
          "metadata": {},
          "execution_count": 21
        }
      ]
    },
    {
      "cell_type": "code",
      "source": [
        "# N1 = Node(10)  #None, 10, 20\n",
        "# N1.data\n",
        "# N1.prev\n",
        "# N1.next\n",
        "\n",
        "d = Dll()\n",
        "# d.head = N1\n",
        "d.insert_at_end(10).prev\n",
        "d.insert_at_end(20)\n",
        "d.display()"
      ],
      "metadata": {
        "colab": {
          "base_uri": "https://localhost:8080/"
        },
        "id": "QM62nZOWnsfV",
        "outputId": "6e7254b8-bf91-4662-f21a-5622a84183f2"
      },
      "execution_count": null,
      "outputs": [
        {
          "output_type": "stream",
          "name": "stdout",
          "text": [
            "10\n",
            "20\n"
          ]
        }
      ]
    },
    {
      "cell_type": "markdown",
      "source": [
        "###Circular Linkedlist\n",
        "\n",
        "1. Singly\n",
        "2. Doubly"
      ],
      "metadata": {
        "id": "7LFy94WIg3l4"
      }
    },
    {
      "cell_type": "code",
      "source": [
        "#  Circular Singly LL\n",
        "class Node:\n",
        "    def __init__(self,data):\n",
        "        self.data = data\n",
        "        self.next = None #Address of the next node\n",
        "\n",
        "class Circular_singly:\n",
        "    def __init__(self):\n",
        "        self.head = Node(None)\n",
        "        self.tail = Node(None)\n",
        "        self.tail.next = self.head\n",
        "        self.head.next = self.tail\n",
        "\n",
        "    def display(self):\n",
        "        if self.head.data is None:\n",
        "            print('CSLL is empty')\n",
        "        else:\n",
        "            temp = self.head\n",
        "            print(temp.data)\n",
        "            while temp.next != self.head:\n",
        "                temp = temp.next\n",
        "                print(temp.data)\n",
        "\n",
        "Csll =Circular_singly()"
      ],
      "metadata": {
        "id": "aLAH8aJIoYfQ"
      },
      "execution_count": null,
      "outputs": []
    },
    {
      "cell_type": "code",
      "source": [
        "# Csll.display()\n",
        "\n",
        "N1 = Node(10)\n",
        "Csll.head = N1\n",
        "Csll.tail = N1\n",
        "Csll.head.next = Csll.tail\n",
        "Csll.tail.next = Csll.head\n",
        "# Csll.display()\n",
        "Csll.head.next.data\n",
        "# Csll.tail.data"
      ],
      "metadata": {
        "colab": {
          "base_uri": "https://localhost:8080/"
        },
        "id": "9vjS2pdkpV_f",
        "outputId": "0b8b3601-ba32-4081-8c8e-a6224e48d572"
      },
      "execution_count": null,
      "outputs": [
        {
          "output_type": "execute_result",
          "data": {
            "text/plain": [
              "10"
            ]
          },
          "metadata": {},
          "execution_count": 13
        }
      ]
    },
    {
      "cell_type": "code",
      "source": [
        "#  Circular Singly LL\n",
        "class Node:\n",
        "    def __init__(self,data):\n",
        "        self.data = data\n",
        "        self.next = None #Address of the next node\n",
        "\n",
        "class Circular_singly:\n",
        "    def __init__(self):\n",
        "        self.head = Node(None)\n",
        "        self.tail = Node(None)\n",
        "        self.tail.next = self.head\n",
        "        self.head.next = self.tail\n",
        "\n",
        "    def display(self):\n",
        "        if self.head.data is None:\n",
        "            print('CSLL is empty')\n",
        "        else:\n",
        "            temp = self.head\n",
        "            print(temp.data)\n",
        "            while temp.next != self.head:\n",
        "                temp = temp.next\n",
        "                print(temp.data)\n",
        "\n",
        "    def counter(self):\n",
        "            count=1\n",
        "            temp = self.head\n",
        "            while temp.next != self.head:\n",
        "                temp = temp.next\n",
        "                count+=1\n",
        "            return count\n",
        "\n",
        "    def insert_at_end(self,data):\n",
        "        ne = Node(data)\n",
        "        if self.head.data is None:\n",
        "            self.head = ne\n",
        "            self.tail = ne\n",
        "            self.head.next = self.tail\n",
        "            self.tail.next = self.head\n",
        "        else:\n",
        "            self.tail.next = ne\n",
        "            ne.next = self.head\n",
        "            self.tail = ne\n",
        "\n",
        "    def insert_at_beg(self,data):\n",
        "        nb = Node(data)\n",
        "        if self.head.data is None:\n",
        "            self.head = nb\n",
        "            self.tail = nb\n",
        "            self.head.next = self.tail\n",
        "            self.tail.next = self.head\n",
        "        else:\n",
        "            nb.next = self.head\n",
        "            self.tail.next = nb\n",
        "            self.head = nb\n",
        "\n",
        "    def insert_at_pos(self,data,pos):\n",
        "        np = Node(data)\n",
        "        if self.head.data is None:\n",
        "            self.head = np\n",
        "            self.tail = np\n",
        "            self.head.next = self.tail\n",
        "            self.tail.next = self.head\n",
        "        else:\n",
        "            if (pos == 1):\n",
        "                self.insert_at_beg(data)\n",
        "            elif (pos == self.counter()+1):\n",
        "                self.insert_at_end(data)\n",
        "            elif (self.counter() >= pos):\n",
        "                temp = self.head\n",
        "                for i in range(pos-2):\n",
        "                    temp = temp.next\n",
        "                np.next = temp.next\n",
        "                temp.next = np\n",
        "            else:\n",
        "                print('Invalid position ')\n",
        "\n",
        "    def deletion_at_beg(self):\n",
        "        if self.head.data is None:\n",
        "            return 'Nothing to delete'\n",
        "        else:\n",
        "            self.head = self.head.next\n",
        "            self.tail.next = self.head\n",
        "\n",
        "\n",
        "Csll =Circular_singly()\n",
        "Csll.insert_at_end(100) #100\n",
        "Csll.insert_at_beg(90) #90,100\n",
        "Csll.insert_at_pos(110,3) #90,100,110\n",
        "# Csll.insert_at_pos(3,110)\n",
        "# Csll.insert_at_pos(70,5) #70,90,100,110\n",
        "Csll.insert_at_end(120) #90,100,110,120\n",
        "Csll.deletion_at_beg() #100,110,120\n",
        "Csll.insert_at_beg(60) #60,100,110,120\n",
        "Csll.display()\n",
        "# Csll.counter()\n",
        "print(Csll.head.data,Csll.tail.data)"
      ],
      "metadata": {
        "colab": {
          "base_uri": "https://localhost:8080/"
        },
        "id": "Plpbrnmwr_-e",
        "outputId": "a9e1e222-7acf-4189-8ef2-35c7b3ee6e20"
      },
      "execution_count": null,
      "outputs": [
        {
          "output_type": "stream",
          "name": "stdout",
          "text": [
            "60\n",
            "100\n",
            "110\n",
            "120\n",
            "60 120\n"
          ]
        }
      ]
    },
    {
      "cell_type": "markdown",
      "source": [
        "Circular Doubly LL"
      ],
      "metadata": {
        "id": "pHoMA51Nof3_"
      }
    },
    {
      "cell_type": "code",
      "source": [
        "#  Circular Doubly LL\n",
        "class Node:\n",
        "    def __init__(self,data):\n",
        "        self.data = data\n",
        "        self.next = None # Address of the next node\n",
        "        self.prev = None # Address of the prev node\n",
        "\n",
        "class Circular_Doubly:\n",
        "    def __init__(self):\n",
        "        self.head = Node(None)\n",
        "        self.tail = Node(None)\n",
        "        self.head.next = self.tail\n",
        "        self.head.prev = self.tail\n",
        "        self.tail.next = self.head\n",
        "        self.tail.prev = self.head\n",
        "\n",
        "    def display(self):\n",
        "        if self.head.data is None:\n",
        "            print('CDLL is empty')\n",
        "        else:\n",
        "            temp = self.head\n",
        "            print(temp.data)\n",
        "            while temp.next != self.head:\n",
        "                temp = temp.next\n",
        "                print(temp.data)"
      ],
      "metadata": {
        "id": "uJPDa_FSoqnJ"
      },
      "execution_count": null,
      "outputs": []
    },
    {
      "cell_type": "code",
      "source": [
        "Dll = Circular_Doubly()\n",
        "N1 = Node(10)\n",
        "Dll.head = N1\n",
        "Dll.tail = N1\n",
        "Dll.head.next = Dll.tail\n",
        "Dll.head.prev = Dll.tail\n",
        "Dll.tail.next = Dll.head\n",
        "Dll.tail.prev = Dll.head\n",
        "Dll.display()\n",
        "\n",
        "# Dll.head.next.data\n",
        "# Dll.head.prev.data\n",
        "# Dll.tail.prev.data\n",
        "Dll.tail.next.data"
      ],
      "metadata": {
        "id": "XpiH_s3z4tgd"
      },
      "execution_count": null,
      "outputs": []
    },
    {
      "cell_type": "code",
      "source": [
        "N2 = Node(11)\n",
        "Dll.tail = N2\n",
        "N1.next = N2\n",
        "N1.prev = N2\n",
        "N2.prev=  N1\n",
        "N2.next = N1\n",
        "# Dll.display()\n",
        "# Dll.head.data\n",
        "# Dll.tail.data"
      ],
      "metadata": {
        "colab": {
          "base_uri": "https://localhost:8080/"
        },
        "id": "3VV5YR3GuXpj",
        "outputId": "34d5b6fa-f0b8-4ade-885e-f5a536693185"
      },
      "execution_count": null,
      "outputs": [
        {
          "output_type": "execute_result",
          "data": {
            "text/plain": [
              "11"
            ]
          },
          "metadata": {},
          "execution_count": 12
        }
      ]
    },
    {
      "cell_type": "code",
      "source": [
        "#  Circular Doubly LL\n",
        "class Node:\n",
        "    def __init__(self,data):\n",
        "        self.data = data\n",
        "        self.next = None # Address of the next node\n",
        "        self.prev = None # Address of the prev node\n",
        "\n",
        "class Circular_Doubly:\n",
        "    def __init__(self):\n",
        "        self.head = Node(None)\n",
        "        self.tail = Node(None)\n",
        "        self.head.next = self.tail\n",
        "        self.head.prev = self.tail\n",
        "        self.tail.next = self.head\n",
        "        self.tail.prev = self.head\n",
        "\n",
        "    def display(self):\n",
        "        if self.head.data is None:\n",
        "            print('CDLL is empty')\n",
        "        else:\n",
        "            temp = self.head\n",
        "            print(temp.data)\n",
        "            while temp.next != self.head:\n",
        "                temp = temp.next\n",
        "                print(temp.data)\n",
        "\n",
        "    def counter(self):\n",
        "            count=1\n",
        "            temp = self.head\n",
        "            while temp.next != self.head:\n",
        "                temp = temp.next\n",
        "                count+=1\n",
        "            return count\n",
        "\n",
        "    def first_node(self,data):\n",
        "            n = Node(data)\n",
        "            self.head = n\n",
        "            self.tail = n\n",
        "            self.head.next = self.tail\n",
        "            self.head.prev = self.tail\n",
        "            self.tail.next = self.head\n",
        "            self.tail.prev = self.head\n",
        "\n",
        "    def insert_at_end(self,data):\n",
        "        if self.head.data is None:\n",
        "            self.first_node(data)\n",
        "        else:\n",
        "            n = Node(data)\n",
        "            self.tail.next = n\n",
        "            self.head.prev = n\n",
        "            n.next = self.head\n",
        "            n.prev = self.tail\n",
        "            self.tail = n\n",
        "\n",
        "    def insert_at_beg(self,data):\n",
        "        if self.head.data is None:\n",
        "            self.first_node(data)\n",
        "        # else:\n",
        "\n",
        "Cdll =Circular_Doubly()\n",
        "Cdll.insert_at_end(100) #100\n",
        "Cdll.display()"
      ],
      "metadata": {
        "id": "W9b__zwzro0u"
      },
      "execution_count": null,
      "outputs": []
    },
    {
      "cell_type": "code",
      "source": [
        "def fit(hi):\n",
        "    hi = 3\n",
        "    print(hi)\n",
        "\n",
        "fit('hello')"
      ],
      "metadata": {
        "id": "rByXo_2h4LEq"
      },
      "execution_count": null,
      "outputs": []
    },
    {
      "cell_type": "markdown",
      "source": [
        "###Stack (LIFO,FILO)"
      ],
      "metadata": {
        "id": "bA56IFSgz6bA"
      }
    },
    {
      "cell_type": "code",
      "source": [
        "s = []\n",
        "s.append(1) # [1]\n",
        "s.append(2) # [1,2]\n",
        "s.append(3) # [1,2,3]\n",
        "s.append(4) # [1,2,3,4]\n",
        "print(s)\n",
        "s.pop() # [1,2,3]\n",
        "s.pop() # [1,2]\n",
        "s.pop() # [1]\n",
        "s.pop() # []"
      ],
      "metadata": {
        "colab": {
          "base_uri": "https://localhost:8080/"
        },
        "id": "rPzxw3miz34Z",
        "outputId": "0d894693-6726-4f59-e95b-c3e21bfa36e3"
      },
      "execution_count": null,
      "outputs": [
        {
          "output_type": "stream",
          "name": "stdout",
          "text": [
            "[1, 2, 3, 4]\n"
          ]
        },
        {
          "output_type": "execute_result",
          "data": {
            "text/plain": [
              "[1]"
            ]
          },
          "metadata": {},
          "execution_count": 3
        }
      ]
    },
    {
      "cell_type": "markdown",
      "metadata": {
        "id": "mg6xdmFIeIDK"
      },
      "source": [
        "The above process is not preferrable for higher data because of operation complexity as Lists are dynamic arrays.\n",
        "\n",
        "Hence, Dequeues are used.\n",
        "Dequeues are generalization of stacks and queues. They are built using double linked lists. It allocates memory only when needed."
      ]
    },
    {
      "cell_type": "code",
      "source": [
        "# Dequeue\n",
        "from collections import deque\n",
        "stack = deque()\n",
        "dir(stack)"
      ],
      "metadata": {
        "colab": {
          "base_uri": "https://localhost:8080/"
        },
        "id": "OMIR2B1t49I_",
        "outputId": "12aedb4e-6a9b-4af5-9ac0-ee750b3869dd"
      },
      "execution_count": null,
      "outputs": [
        {
          "output_type": "execute_result",
          "data": {
            "text/plain": [
              "['__add__',\n",
              " '__bool__',\n",
              " '__class__',\n",
              " '__class_getitem__',\n",
              " '__contains__',\n",
              " '__copy__',\n",
              " '__delattr__',\n",
              " '__delitem__',\n",
              " '__dir__',\n",
              " '__doc__',\n",
              " '__eq__',\n",
              " '__format__',\n",
              " '__ge__',\n",
              " '__getattribute__',\n",
              " '__getitem__',\n",
              " '__gt__',\n",
              " '__hash__',\n",
              " '__iadd__',\n",
              " '__imul__',\n",
              " '__init__',\n",
              " '__init_subclass__',\n",
              " '__iter__',\n",
              " '__le__',\n",
              " '__len__',\n",
              " '__lt__',\n",
              " '__mul__',\n",
              " '__ne__',\n",
              " '__new__',\n",
              " '__reduce__',\n",
              " '__reduce_ex__',\n",
              " '__repr__',\n",
              " '__reversed__',\n",
              " '__rmul__',\n",
              " '__setattr__',\n",
              " '__setitem__',\n",
              " '__sizeof__',\n",
              " '__str__',\n",
              " '__subclasshook__',\n",
              " 'append',\n",
              " 'appendleft',\n",
              " 'clear',\n",
              " 'copy',\n",
              " 'count',\n",
              " 'extend',\n",
              " 'extendleft',\n",
              " 'index',\n",
              " 'insert',\n",
              " 'maxlen',\n",
              " 'pop',\n",
              " 'popleft',\n",
              " 'remove',\n",
              " 'reverse',\n",
              " 'rotate']"
            ]
          },
          "metadata": {},
          "execution_count": 4
        }
      ]
    },
    {
      "cell_type": "code",
      "source": [
        "from collections import deque\n",
        "stack = deque()\n",
        "stack"
      ],
      "metadata": {
        "colab": {
          "base_uri": "https://localhost:8080/"
        },
        "id": "5t2PtaMq6QDN",
        "outputId": "6417341c-df3c-41ba-cef2-137a65a8442d"
      },
      "execution_count": null,
      "outputs": [
        {
          "output_type": "execute_result",
          "data": {
            "text/plain": [
              "deque([])"
            ]
          },
          "metadata": {},
          "execution_count": 6
        }
      ]
    },
    {
      "cell_type": "code",
      "source": [
        "stack.append(2)\n",
        "stack.append(3)\n",
        "stack.append(4)\n",
        "stack.append(5)\n",
        "stack"
      ],
      "metadata": {
        "colab": {
          "base_uri": "https://localhost:8080/"
        },
        "id": "QE_hy1QV8H9V",
        "outputId": "05ba6a28-6e8c-4e47-c233-1eecb230b0f5"
      },
      "execution_count": null,
      "outputs": [
        {
          "output_type": "execute_result",
          "data": {
            "text/plain": [
              "deque([1, 2, 3, 4, 5])"
            ]
          },
          "metadata": {},
          "execution_count": 8
        }
      ]
    },
    {
      "cell_type": "code",
      "source": [
        "stack.pop()\n",
        "stack"
      ],
      "metadata": {
        "id": "CKmUMpdz8mVQ"
      },
      "execution_count": null,
      "outputs": []
    },
    {
      "cell_type": "code",
      "source": [
        "class stack:\n",
        "    def __init__(self):\n",
        "        self.buf = deque()\n",
        "    def push(self,data):\n",
        "        self.buf.append(data)\n",
        "    def pop(self):\n",
        "        if len(self.buf) == 0 :\n",
        "            return 'Stack is empty'\n",
        "        else:\n",
        "            self.buf.pop()\n",
        "    def display(self):\n",
        "        if len(self.buf) == 0 :\n",
        "            return 'Stack is empty'\n",
        "        else:\n",
        "            for i in self.buf:\n",
        "                print(i)\n",
        "    def last_element(self):\n",
        "        return self.buf[-1]\n",
        "\n",
        "ss = stack()\n",
        "ss.display()"
      ],
      "metadata": {
        "colab": {
          "base_uri": "https://localhost:8080/",
          "height": 35
        },
        "id": "4cs8Izag8wiy",
        "outputId": "50fe4435-0a82-4b05-e1dc-2ae298264ced"
      },
      "execution_count": null,
      "outputs": [
        {
          "output_type": "execute_result",
          "data": {
            "text/plain": [
              "'Stack is empty'"
            ],
            "application/vnd.google.colaboratory.intrinsic+json": {
              "type": "string"
            }
          },
          "metadata": {},
          "execution_count": 36
        }
      ]
    },
    {
      "cell_type": "code",
      "source": [
        "ss.push(11)\n",
        "ss.push(12)\n",
        "ss.push(13)\n",
        "ss.push(14)\n",
        "ss.display()"
      ],
      "metadata": {
        "colab": {
          "base_uri": "https://localhost:8080/"
        },
        "id": "k-Kws7Kq_h53",
        "outputId": "ec3dd79b-ec95-44c5-fe96-1b722dfc7d87"
      },
      "execution_count": null,
      "outputs": [
        {
          "output_type": "stream",
          "name": "stdout",
          "text": [
            "11\n",
            "12\n",
            "13\n",
            "14\n"
          ]
        }
      ]
    },
    {
      "cell_type": "code",
      "source": [
        "ss.pop()\n",
        "ss.display()"
      ],
      "metadata": {
        "colab": {
          "base_uri": "https://localhost:8080/",
          "height": 35
        },
        "id": "LS8MQgWB_5RQ",
        "outputId": "7af63abc-4a45-4a37-a286-0a3df9ae024f"
      },
      "execution_count": null,
      "outputs": [
        {
          "output_type": "execute_result",
          "data": {
            "text/plain": [
              "'Stack is empty'"
            ],
            "application/vnd.google.colaboratory.intrinsic+json": {
              "type": "string"
            }
          },
          "metadata": {},
          "execution_count": 34
        }
      ]
    },
    {
      "cell_type": "code",
      "source": [
        "ss.last_element()"
      ],
      "metadata": {
        "colab": {
          "base_uri": "https://localhost:8080/"
        },
        "id": "_pjHjdrpALyQ",
        "outputId": "01f8a4cd-bd49-4451-be36-d43fec384407"
      },
      "execution_count": null,
      "outputs": [
        {
          "output_type": "execute_result",
          "data": {
            "text/plain": [
              "14"
            ]
          },
          "metadata": {},
          "execution_count": 38
        }
      ]
    },
    {
      "cell_type": "code",
      "source": [
        "ss.buf[-1]"
      ],
      "metadata": {
        "colab": {
          "base_uri": "https://localhost:8080/"
        },
        "id": "ajDNQU0yArcO",
        "outputId": "27d47f39-f14f-4b5f-ee6f-5aee0d5007cf"
      },
      "execution_count": null,
      "outputs": [
        {
          "output_type": "execute_result",
          "data": {
            "text/plain": [
              "14"
            ]
          },
          "metadata": {},
          "execution_count": 39
        }
      ]
    },
    {
      "cell_type": "markdown",
      "metadata": {
        "id": "9-igvPy6ok4F"
      },
      "source": [
        "Reference Link:\n",
        "https://docs.python.org/2/library/collections.html#collections.deque"
      ]
    },
    {
      "cell_type": "code",
      "source": [],
      "metadata": {
        "id": "rvr9Fl7DHayu"
      },
      "execution_count": null,
      "outputs": []
    },
    {
      "cell_type": "markdown",
      "source": [
        "###Queue"
      ],
      "metadata": {
        "id": "wrdA7XTjHbZq"
      }
    },
    {
      "cell_type": "code",
      "source": [
        "s = []\n",
        "s.insert(0,1) # [1]\n",
        "s.insert(0,2) # [2,1]\n",
        "s.insert(0,3) # [3,2,1]\n",
        "s.insert(0,4) # [4,3,2,1]\n",
        "print(s)\n",
        "s.pop() # [4,3,2]\n",
        "s.pop() # [4,3]\n",
        "s.pop() # [4]\n",
        "s.pop() # []\n",
        "s"
      ],
      "metadata": {
        "colab": {
          "base_uri": "https://localhost:8080/"
        },
        "outputId": "1af42b32-6605-401c-91d8-a949b87ca4ee",
        "id": "MaeMXOEKHa_F"
      },
      "execution_count": null,
      "outputs": [
        {
          "output_type": "stream",
          "name": "stdout",
          "text": [
            "[4, 3, 2, 1]\n"
          ]
        },
        {
          "output_type": "execute_result",
          "data": {
            "text/plain": [
              "[]"
            ]
          },
          "metadata": {},
          "execution_count": 42
        }
      ]
    },
    {
      "cell_type": "code",
      "source": [
        "# Dequeue\n",
        "from collections import deque\n",
        "que = deque()\n",
        "# dir(que)\n",
        "que"
      ],
      "metadata": {
        "colab": {
          "base_uri": "https://localhost:8080/"
        },
        "id": "LaV9xur0IsXB",
        "outputId": "111c8734-b8ad-4be7-866c-714f069726d2"
      },
      "execution_count": null,
      "outputs": [
        {
          "output_type": "execute_result",
          "data": {
            "text/plain": [
              "deque([])"
            ]
          },
          "metadata": {},
          "execution_count": 74
        }
      ]
    },
    {
      "cell_type": "code",
      "source": [
        "que.append(12)\n",
        "que.append(13)\n",
        "que.append(14)\n",
        "que.append(15)\n",
        "que"
      ],
      "metadata": {
        "colab": {
          "base_uri": "https://localhost:8080/"
        },
        "id": "vqvZzTMIJG5n",
        "outputId": "5d7a05e9-a7f7-4ceb-f6a3-6e62fd5c3336"
      },
      "execution_count": null,
      "outputs": [
        {
          "output_type": "execute_result",
          "data": {
            "text/plain": [
              "deque([12, 13, 14, 15])"
            ]
          },
          "metadata": {},
          "execution_count": 75
        }
      ]
    },
    {
      "cell_type": "code",
      "source": [
        "que.popleft()\n",
        "que"
      ],
      "metadata": {
        "id": "V9iZEv9yJXkl"
      },
      "execution_count": null,
      "outputs": []
    },
    {
      "cell_type": "code",
      "source": [
        "# Alternatively\n",
        "que.appendleft(12)\n",
        "que.appendleft(13)\n",
        "que.appendleft(14)\n",
        "que.appendleft(15)\n",
        "que"
      ],
      "metadata": {
        "colab": {
          "base_uri": "https://localhost:8080/"
        },
        "id": "9Q8hFeVHJl6I",
        "outputId": "d7757a88-80ed-4c81-8146-dc255d575d33"
      },
      "execution_count": null,
      "outputs": [
        {
          "output_type": "execute_result",
          "data": {
            "text/plain": [
              "deque([15, 14, 13, 12])"
            ]
          },
          "metadata": {},
          "execution_count": 57
        }
      ]
    },
    {
      "cell_type": "code",
      "source": [
        "que.pop()\n",
        "que"
      ],
      "metadata": {
        "colab": {
          "base_uri": "https://localhost:8080/"
        },
        "id": "jYlY4To8Jybs",
        "outputId": "33059dd3-7032-431c-f1e8-e5e5d51f664f"
      },
      "execution_count": null,
      "outputs": [
        {
          "output_type": "execute_result",
          "data": {
            "text/plain": [
              "deque([])"
            ]
          },
          "metadata": {},
          "execution_count": 61
        }
      ]
    },
    {
      "cell_type": "code",
      "source": [
        "class queue:\n",
        "    def __init__(self):\n",
        "        self.buf = deque()\n",
        "    def push(self,data):\n",
        "        self.buf.append(data)\n",
        "    def pop(self):\n",
        "        if len(self.buf) == 0 :\n",
        "            return 'Queue is empty'\n",
        "        else:\n",
        "            self.buf.popleft()\n",
        "    def display(self):\n",
        "        if len(self.buf) == 0 :\n",
        "            return 'Queue is empty'\n",
        "        else:\n",
        "            for i in range(len(self.buf)-1,-1,-1):\n",
        "                print(self.buf[i])\n",
        "    def last_inserted_element(self):\n",
        "        return self.buf[-1]\n",
        "\n",
        "qq = queue()\n",
        "qq.display()"
      ],
      "metadata": {
        "colab": {
          "base_uri": "https://localhost:8080/",
          "height": 35
        },
        "id": "JHw0yuYMJhs0",
        "outputId": "1c6db085-dcbc-4156-e81e-8490e3f64b0c"
      },
      "execution_count": null,
      "outputs": [
        {
          "output_type": "execute_result",
          "data": {
            "text/plain": [
              "'Queue is empty'"
            ],
            "application/vnd.google.colaboratory.intrinsic+json": {
              "type": "string"
            }
          },
          "metadata": {},
          "execution_count": 77
        }
      ]
    },
    {
      "cell_type": "code",
      "source": [
        "qq.push(21)\n",
        "qq.push(22)\n",
        "qq.push(23)\n",
        "qq.push(24)\n",
        "qq.display()"
      ],
      "metadata": {
        "colab": {
          "base_uri": "https://localhost:8080/"
        },
        "id": "Q0Mj7lQbKoKx",
        "outputId": "1bfebfc0-eb7e-43f7-d825-7093c20e48aa"
      },
      "execution_count": null,
      "outputs": [
        {
          "output_type": "stream",
          "name": "stdout",
          "text": [
            "24\n",
            "23\n",
            "22\n",
            "21\n"
          ]
        }
      ]
    },
    {
      "cell_type": "code",
      "source": [
        "qq.pop()\n",
        "qq.display()"
      ],
      "metadata": {
        "colab": {
          "base_uri": "https://localhost:8080/"
        },
        "id": "AXHYOXdRK1Ns",
        "outputId": "53968f86-3d7a-4db3-b5fa-042e06fbbfb3"
      },
      "execution_count": null,
      "outputs": [
        {
          "output_type": "stream",
          "name": "stdout",
          "text": [
            "24\n"
          ]
        }
      ]
    },
    {
      "cell_type": "markdown",
      "source": [
        "###Hash Map"
      ],
      "metadata": {
        "id": "e5YSCenwL_uM"
      }
    },
    {
      "cell_type": "code",
      "source": [
        "# https://docs.google.com/spreadsheets/d/11BEOJOpdPHSNNLSKllzyBSLjLv2uaWMoeQ4k_K-LanM/edit?usp=sharing\n",
        "with open(\"/content/Actors_table - Actors.csv\",'r') as f:\n",
        "    # print(f.readlines())\n",
        "    tab = []\n",
        "    for i in f:\n",
        "       i = i.split(',')\n",
        "       tab.append([i[0],i[1].replace('\\n','')])\n",
        "    print(tab)"
      ],
      "metadata": {
        "colab": {
          "base_uri": "https://localhost:8080/"
        },
        "id": "1egz8MJAMy2w",
        "outputId": "cb750e00-d7b0-41fb-ebaa-182ea2e7f385"
      },
      "execution_count": null,
      "outputs": [
        {
          "output_type": "stream",
          "name": "stdout",
          "text": [
            "[['Name', 'Roles'], ['aneed', 'artist'], ['Shaji', 'Hero'], ['Ahmed', 'Friend'], ['Tasneem', 'Actress'], ['Shazan', 'Artist'], ['Altaf', 'Gunda'], ['Mujtaba', 'Villan']]\n"
          ]
        }
      ]
    },
    {
      "cell_type": "code",
      "source": [
        "# tab\n",
        "a = input('Give the role: ')\n",
        "for i in range(len(tab)):\n",
        "    if (tab[i][1] == a):\n",
        "        print(tab[i][0])"
      ],
      "metadata": {
        "colab": {
          "base_uri": "https://localhost:8080/"
        },
        "id": "RP7y_kajXRzb",
        "outputId": "451ba7e7-6095-42e0-89be-debb4d071481"
      },
      "execution_count": null,
      "outputs": [
        {
          "output_type": "stream",
          "name": "stdout",
          "text": [
            "Give the role: artist\n",
            "aneed\n"
          ]
        }
      ]
    },
    {
      "cell_type": "code",
      "source": [
        "# https://docs.google.com/spreadsheets/d/11BEOJOpdPHSNNLSKllzyBSLjLv2uaWMoeQ4k_K-LanM/edit?usp=sharing\n",
        "with open(\"/content/Actors_table - Actors.csv\",'r') as f:\n",
        "    # print(f.readlines())\n",
        "    dic  = {}\n",
        "    for i in f:\n",
        "       i = i.split(',')\n",
        "       dic[i[0]] = i[1].replace('\\n','')\n",
        "    print(dic)\n",
        "\n",
        "dic['Shaji']"
      ],
      "metadata": {
        "id": "sXMC_yrHYSRq"
      },
      "execution_count": null,
      "outputs": []
    },
    {
      "cell_type": "code",
      "source": [
        "a = {}\n",
        "a['shaj'] = 'Hero'\n",
        "a"
      ],
      "metadata": {
        "colab": {
          "base_uri": "https://localhost:8080/"
        },
        "id": "5ar_VmzdYcbc",
        "outputId": "08482334-8ba3-4ad2-f870-0d39368398c7"
      },
      "execution_count": null,
      "outputs": [
        {
          "output_type": "execute_result",
          "data": {
            "text/plain": [
              "{'shaj': 'Hero'}"
            ]
          },
          "metadata": {},
          "execution_count": 109
        }
      ]
    },
    {
      "cell_type": "markdown",
      "source": [
        "Hash Function"
      ],
      "metadata": {
        "id": "FOkhEjGe8UEu"
      }
    },
    {
      "cell_type": "code",
      "source": [
        "def get_hash(key):\n",
        "    hash = 0\n",
        "    for char in key:\n",
        "        hash += ord(char)\n",
        "    return hash % 10"
      ],
      "metadata": {
        "id": "JstxPcfyZVtD"
      },
      "execution_count": null,
      "outputs": []
    },
    {
      "cell_type": "code",
      "source": [
        "get_hash('kia')"
      ],
      "metadata": {
        "colab": {
          "base_uri": "https://localhost:8080/"
        },
        "id": "uBVi0nWB-YH6",
        "outputId": "ad33086d-64c6-46f8-f323-1767ac57c2ae"
      },
      "execution_count": null,
      "outputs": [
        {
          "output_type": "execute_result",
          "data": {
            "text/plain": [
              "9"
            ]
          },
          "metadata": {},
          "execution_count": 5
        }
      ]
    },
    {
      "cell_type": "code",
      "source": [
        "class HashTable:\n",
        "    def __init__(self):\n",
        "        self.Size = 10\n",
        "        self.arr = [None for i in range(self.Size)]\n",
        "\n",
        "    def get_hash(self,key):\n",
        "        hash = 0\n",
        "        for char in key:\n",
        "            hash += ord(char)\n",
        "        return hash % 10\n",
        "\n",
        "    def __getitem__(self,index):\n",
        "        h = self.get_hash(index)\n",
        "        return self.arr[h]\n",
        "\n",
        "    def __setitem__(self,key,value):\n",
        "        h = self.get_hash(key)\n",
        "        self.arr[h]=value\n",
        "\n",
        "hash = HashTable()"
      ],
      "metadata": {
        "id": "6y--HI10_Bmk"
      },
      "execution_count": null,
      "outputs": []
    },
    {
      "cell_type": "code",
      "source": [
        "# hash.arr\n",
        "# hash.Size\n",
        "# hash['Jan'] = 1\n",
        "# hash['Feb'] = 12\n",
        "# hash['Mar'] = 123\n",
        "# hash['Jun'] = 1234\n",
        "# hash['Jul'] = 12345\n",
        "# hash.arr\n",
        "hash['Mar']"
      ],
      "metadata": {
        "colab": {
          "base_uri": "https://localhost:8080/"
        },
        "id": "1JJu6e4bECaw",
        "outputId": "2051421e-7d15-4bf2-a749-00700e5a8354"
      },
      "execution_count": null,
      "outputs": [
        {
          "output_type": "execute_result",
          "data": {
            "text/plain": [
              "123"
            ]
          },
          "metadata": {},
          "execution_count": 18
        }
      ]
    },
    {
      "cell_type": "markdown",
      "source": [
        "As there is a collision happening, we can deal with -\n",
        "\n",
        "1. Chaining\n",
        "2. Linear Probing"
      ],
      "metadata": {
        "id": "c1Gancq6FznX"
      }
    },
    {
      "cell_type": "code",
      "source": [
        "dir(HashTable)"
      ],
      "metadata": {
        "id": "z7bLqXvfCsQv"
      },
      "execution_count": null,
      "outputs": []
    },
    {
      "cell_type": "code",
      "source": [
        "a = [1,2,None]\n",
        "# a[1]\n",
        "a[2]=4\n",
        "a\n"
      ],
      "metadata": {
        "colab": {
          "base_uri": "https://localhost:8080/"
        },
        "id": "o7-EqN82DGkB",
        "outputId": "cd21f163-11ff-494b-cd64-47e6cfed7696"
      },
      "execution_count": null,
      "outputs": [
        {
          "output_type": "execute_result",
          "data": {
            "text/plain": [
              "[1, 2, 4]"
            ]
          },
          "metadata": {},
          "execution_count": 10
        }
      ]
    },
    {
      "cell_type": "code",
      "source": [
        "class HashTable:\n",
        "    def __init__(self):\n",
        "        self.Size = 10\n",
        "        self.arr = [[] for i in range(self.Size)]\n",
        "\n",
        "    def get_hash(self,key):\n",
        "        hash = 0\n",
        "        for char in key:\n",
        "            hash += ord(char)\n",
        "        return hash % 10\n",
        "\n",
        "    def __getitem__(self,key):\n",
        "        h = self.get_hash(key)\n",
        "        flag =  True\n",
        "        for i,ele in enumerate(self.arr[h]):\n",
        "            if ele[0] == key :\n",
        "                print(ele[1])\n",
        "                flag = False\n",
        "        if flag:\n",
        "                print('No such key exists')\n",
        "\n",
        "    def __setitem__(self,key,value):\n",
        "        h = self.get_hash(key)\n",
        "        flag =  True\n",
        "        for i,ele in enumerate(self.arr[h]):\n",
        "            if ele[0] == key :\n",
        "                self.arr[h][i] = (key,value)\n",
        "                flag = False\n",
        "        if flag:\n",
        "            self.arr[h].append((key,value))\n",
        "\n",
        "hash = HashTable()"
      ],
      "metadata": {
        "id": "4VduSeq7HQx1"
      },
      "execution_count": null,
      "outputs": []
    },
    {
      "cell_type": "code",
      "source": [
        "# hash['hi']\n",
        "hash.arr"
      ],
      "metadata": {
        "colab": {
          "base_uri": "https://localhost:8080/"
        },
        "id": "tL07BEd4ZYfn",
        "outputId": "40b08918-4d92-4bb1-e55c-9f1e1bb933e4"
      },
      "execution_count": null,
      "outputs": [
        {
          "output_type": "execute_result",
          "data": {
            "text/plain": [
              "[[], [], [], [], [], [], [], [], [], []]"
            ]
          },
          "metadata": {},
          "execution_count": 58
        }
      ]
    },
    {
      "cell_type": "code",
      "source": [
        "hash['hi']=33\n",
        "hash['hi2']=22\n",
        "hash['hi3']=222\n",
        "hash['hi4']=2222\n",
        "hash.arr"
      ],
      "metadata": {
        "colab": {
          "base_uri": "https://localhost:8080/"
        },
        "id": "lWvBx9OkYAaZ",
        "outputId": "39ee983c-1642-4faa-9f34-13815594a12a"
      },
      "execution_count": null,
      "outputs": [
        {
          "output_type": "execute_result",
          "data": {
            "text/plain": [
              "[[('hi3', 222)],\n",
              " [('hi4', 2222)],\n",
              " [],\n",
              " [],\n",
              " [],\n",
              " [],\n",
              " [],\n",
              " [],\n",
              " [],\n",
              " [('hi', 33), ('hi2', 22)]]"
            ]
          },
          "metadata": {},
          "execution_count": 62
        }
      ]
    },
    {
      "cell_type": "code",
      "source": [
        "hash['hi2']"
      ],
      "metadata": {
        "colab": {
          "base_uri": "https://localhost:8080/"
        },
        "id": "FNe5Fctpec7C",
        "outputId": "d5630687-9967-4f1f-acf8-0abe6567d2e9"
      },
      "execution_count": null,
      "outputs": [
        {
          "output_type": "stream",
          "name": "stdout",
          "text": [
            "22\n"
          ]
        }
      ]
    },
    {
      "cell_type": "code",
      "source": [],
      "metadata": {
        "id": "wnSFVgc1Kmj1"
      },
      "execution_count": null,
      "outputs": []
    },
    {
      "cell_type": "code",
      "source": [
        "#  Trial function\n",
        "def dummy(self,key,value):\n",
        "        h = self.get_hash(key)\n",
        "        # print(h)\n",
        "        # self.arr = [[],[],[],[],[],[],[],[],[],[('hi',2)]]\n",
        "        flag =  True\n",
        "        for i,ele in enumerate(self.arr[h]):\n",
        "            # print(i)\n",
        "            if ele[0] == key :\n",
        "                self.arr[h][i] = (key,value)\n",
        "                flag = False\n",
        "        if flag:\n",
        "            self.arr[h].append((key,value))"
      ],
      "metadata": {
        "id": "jzCJp5qxXtTc"
      },
      "execution_count": null,
      "outputs": []
    },
    {
      "cell_type": "code",
      "source": [
        "hash.dummy('hi',2)\n",
        "# hash.arr"
      ],
      "metadata": {
        "colab": {
          "base_uri": "https://localhost:8080/"
        },
        "id": "OKM562LMQ1Eo",
        "outputId": "d795dfd7-9780-4b8b-9826-b3a00f42ccf9"
      },
      "execution_count": null,
      "outputs": [
        {
          "output_type": "stream",
          "name": "stdout",
          "text": [
            "9\n",
            "(0, ('hi', '2'))\n"
          ]
        }
      ]
    },
    {
      "cell_type": "code",
      "source": [
        "a = ['a',('hi',2),'c']\n",
        "# a[1] = ('hi',3)\n",
        "for i,j in enumerate(a):\n",
        "#    if j[0] == 'hi'\n",
        "     if (j[0]=='hi'):\n",
        "        a[i]=('hi',3)\n",
        "a"
      ],
      "metadata": {
        "colab": {
          "base_uri": "https://localhost:8080/"
        },
        "id": "vgGwUubEQDLk",
        "outputId": "2fb30ff7-2bdc-48a6-9173-74aab489a375"
      },
      "execution_count": null,
      "outputs": [
        {
          "output_type": "execute_result",
          "data": {
            "text/plain": [
              "['a', ('hi', 3), 'c']"
            ]
          },
          "metadata": {},
          "execution_count": 48
        }
      ]
    }
  ]
}